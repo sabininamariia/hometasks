{
 "cells": [
  {
   "cell_type": "code",
   "execution_count": 1,
   "metadata": {
    "scrolled": true
   },
   "outputs": [
    {
     "name": "stdout",
     "output_type": "stream",
     "text": [
      "{'a': 1, 'b': 2, 'c': 3, 'd': 4, 'e': 5}\n"
     ]
    }
   ],
   "source": [
    "a = dict(zip(\"abcdef\", [1, 2, 3, 4, 5]))\n",
    "print(a)\n"
   ]
  },
  {
   "cell_type": "code",
   "execution_count": 4,
   "metadata": {},
   "outputs": [
    {
     "name": "stdout",
     "output_type": "stream",
     "text": [
      "2\n"
     ]
    }
   ],
   "source": [
    "l1 = list('abcd')\n",
    "d1 = {'c': 5, 'd': 6, 'e': 7, 'f': 8, 'g': 9, 'h': 10}\n",
    "d2 = list(d1.keys())\n",
    "res = []\n",
    "for x in set(l1+d2):\n",
    "  y = min(l1.count(x), d2.count(x))\n",
    "  if y > 0:\n",
    "    res.append([x*y, x*y])\n",
    "print(len(res))"
   ]
  },
  {
   "cell_type": "code",
   "execution_count": 6,
   "metadata": {},
   "outputs": [
    {
     "name": "stdout",
     "output_type": "stream",
     "text": [
      "{'!': 3, 'g': 15, 'n': 51, 'c': 13, 'y': 19, 'h': 51, 'w': 17, ',': 16, 'l': 47, 'I': 3, 'F': 1, 'N': 2, 'M': 1, '?': 1, ':': 4, 'v': 6, ' ': 294, 'G': 1, 'S': 1, '\\n': 28, '-': 9, 'a': 52, 'W': 1, 'O': 1, 'Z': 1, 'j': 2, 'x': 1, 'b': 10, 't': 61, 'p': 8, 'i': 48, 'k': 9, 'A': 1, 'm': 20, 'o': 55, 'f': 16, 'T': 1, 'd': 41, 'u': 22, 'q': 1, 'e': 102, \"'\": 4, 'r': 47, 'R': 1, 's': 42, 'L': 2, 'B': 1, '.': 5, ';': 1}\n"
     ]
    }
   ],
   "source": [
    "evgene_o = \"\"\"My uncle -- high ideals inspire him;\n",
    "     but when past joking he fell sick,\n",
    "     he really forced one to admire him --\n",
    "     and never played a shrewder trick.\n",
    "     Let others learn from his example!\n",
    "     But God, how deadly dull to sample\n",
    "     sickroom attendance night and day\n",
    "     and never stir a foot away!\n",
    "     And the sly baseness, fit to throttle,\n",
    "     of entertaining the half-dead:\n",
    "     one smoothes the pillows down in bed,\n",
    "     and glumly serves the medicine bottle,\n",
    "     and sighs, and asks oneself all through:\n",
    "     When will the devil come for you?\n",
    "     \n",
    "     Such were a young rake's meditations --\n",
    "     by will of Zeus, the high and just,\n",
    "     the legatee of his relations --\n",
    "     as horses whirled him through the dust.\n",
    "     Friends of my Ruslan and Lyudmila,\n",
    "     without preliminary feeler\n",
    "     let me acquaint you on the nail\n",
    "     with this the hero of my tale:\n",
    "     Onegin, my good friend, was littered\n",
    "     and bred upon the Neva's brink,\n",
    "     where you were born as well, I think,\n",
    "     reader, or where you've shone and glittered!\n",
    "     There once I too strolled back and forth:\n",
    "     but I'm allergic to the North...\"\"\"\n",
    "x ={c:evgene_o.count(c) for c in set(evgene_o)}\n",
    "print(x)"
   ]
  },
  {
   "cell_type": "code",
   "execution_count": 10,
   "metadata": {},
   "outputs": [
    {
     "name": "stdout",
     "output_type": "stream",
     "text": [
      "756\n"
     ]
    }
   ],
   "source": [
    "x = \"\"\"My uncle -- high ideals inspire him;\n",
    "     but when past joking he fell sick,\n",
    "     he really forced one to admire him --\n",
    "     and never played a shrewder trick.\n",
    "     Let others learn from his example!\n",
    "     But God, how deadly dull to sample\n",
    "     sickroom attendance night and day\n",
    "     and never stir a foot away!\n",
    "     And the sly baseness, fit to throttle,\n",
    "     of entertaining the half-dead:\n",
    "     one smoothes the pillows down in bed,\n",
    "     and glumly serves the medicine bottle,\n",
    "     and sighs, and asks oneself all through:\n",
    "     When will the devil come for you?\n",
    "     \n",
    "     Such were a young rake's meditations --\n",
    "     by will of Zeus, the high and just,\n",
    "     the legatee of his relations --\n",
    "     as horses whirled him through the dust.\n",
    "     Friends of my Ruslan and Lyudmila,\n",
    "     without preliminary feeler\n",
    "     let me acquaint you on the nail\n",
    "     with this the hero of my tale:\n",
    "     Onegin, my good friend, was littered\n",
    "     and bred upon the Neva's brink,\n",
    "     where you were born as well, I think,\n",
    "     reader, or where you've shone and glittered!\n",
    "     There once I too strolled back and forth:\n",
    "     but I'm allergic to the North...\"\"\"\n",
    "let_s = 0\n",
    "let_b = 0\n",
    "for i in x:\n",
    "    if 'a' <= i <= 'z':\n",
    "        let_s += 1\n",
    "print(let_s)"
   ]
  },
  {
   "cell_type": "code",
   "execution_count": 24,
   "metadata": {},
   "outputs": [
    {
     "name": "stdout",
     "output_type": "stream",
     "text": [
      "{1: 10, 2: 20, 3: 30, 4: 40, 5: 50, 6: 60}\n"
     ]
    }
   ],
   "source": [
    "dic1={1:10, 2:20}  \n",
    "dic2={3:30, 4:40}  \n",
    "dic3={5:50,6:60} \n",
    "dic4={**dic1, **dic2,**dic3}\n",
    "print(dic4)"
   ]
  },
  {
   "cell_type": "code",
   "execution_count": 26,
   "metadata": {},
   "outputs": [
    {
     "name": "stdout",
     "output_type": "stream",
     "text": [
      "210\n"
     ]
    }
   ],
   "source": [
    "dic4 = {1: 10, 2: 20, 3: 30, 4: 40, 5: 50, 6: 60}\n",
    "x = list(dic4.values())\n",
    "print(sum(x))"
   ]
  },
  {
   "cell_type": "code",
   "execution_count": 30,
   "metadata": {},
   "outputs": [
    {
     "name": "stdout",
     "output_type": "stream",
     "text": [
      "720000000\n"
     ]
    }
   ],
   "source": [
    "dic4 = {1: 10, 2: 20, 3: 30, 4: 40, 5: 50, 6: 60}\n",
    "n = list(dic4.values())\n",
    "from functools import reduce\n",
    "k = reduce(lambda x, y: x*y,n )\n",
    "print(k)"
   ]
  },
  {
   "cell_type": "code",
   "execution_count": 34,
   "metadata": {},
   "outputs": [
    {
     "name": "stdout",
     "output_type": "stream",
     "text": [
      "910\n"
     ]
    }
   ],
   "source": [
    "dic4 = {1: 10, 2: 20, 3: 30, 4: 40, 5: 50, 6: 60}\n",
    "a = list(dic4.keys())\n",
    "b = list(dic4.values())\n",
    "c = [x*y for x, y in zip(a, b)]\n",
    "print(sum(c))"
   ]
  },
  {
   "cell_type": "code",
   "execution_count": 2,
   "metadata": {},
   "outputs": [
    {
     "name": "stdout",
     "output_type": "stream",
     "text": [
      "{'h': 23, 'i': 24, 'j': 25, 'k': 26, 'l': 27}\n"
     ]
    }
   ],
   "source": [
    "dic5 = {'a': 3, 'b': 4, 'c': 5, 'd': 6, 'e': 7, 'f': 8, 'g': 9}\n",
    "dic6 = {'e': 20, 'f': 21, 'g': 22, 'h': 23, 'i': 24, 'j': 25, 'k': 26, 'l': 27}\n",
    "dic7 = dict(dic6)\n",
    "a = list(dic5)\n",
    "for k, v in list(dic7.items()):\n",
    "    if k in a:\n",
    "        del dic7[k]\n",
    "print(dic7)"
   ]
  },
  {
   "cell_type": "code",
   "execution_count": 62,
   "metadata": {},
   "outputs": [
    {
     "name": "stdout",
     "output_type": "stream",
     "text": [
      "{'a': 3, 'b': 4, 'c': 5, 'd': 6, 'e': 7, 'f': 8, 'g': 9, 'h': 23, 'i': 24, 'j': 25, 'k': 26, 'l': 27}\n"
     ]
    }
   ],
   "source": [
    "dic5 = {'a': 3, 'b': 4, 'c': 5, 'd': 6, 'e': 7, 'f': 8, 'g': 9}\n",
    "dic6 = {'e': 20, 'f': 21, 'g': 22, 'h': 23, 'i': 24, 'j': 25, 'k': 26, 'l': 27}\n",
    "dic7 = dict(dic6)\n",
    "a = list(dic5)\n",
    "for k, v in list(dic7.items()):\n",
    "    if k in a:\n",
    "        del dic7[k]\n",
    "dic7\n",
    "dic8= {**dic5,**dic7}\n",
    "print(dic8)"
   ]
  },
  {
   "cell_type": "code",
   "execution_count": 77,
   "metadata": {},
   "outputs": [
    {
     "name": "stdout",
     "output_type": "stream",
     "text": [
      "[5, 15, 1, 13, 7, 14, 8, 1, 12, 14, 10, 13, 2, 1, 11, 11, 10, 3, 10, 8, 5, 3, 5, 10, 8, 14, 4, 1, 8, 6]\n",
      "[1, 2, 3, 4, 5, 6, 7, 8, 10, 11, 12, 13, 14, 15]\n"
     ]
    }
   ],
   "source": [
    "import random\n",
    "ri1 = [random.randint(1, 15) for _ in range(30)]\n",
    "print(ri1)\n",
    "ri2 = []\n",
    "for i in ri1:\n",
    "    if i not in ri2:\n",
    "        ri2.append(i)\n",
    "ri2.sort()\n",
    "print(ri2)"
   ]
  },
  {
   "cell_type": "code",
   "execution_count": 4,
   "metadata": {},
   "outputs": [
    {
     "name": "stdout",
     "output_type": "stream",
     "text": [
      "{'g': 15, 'n': 51, 'c': 13, 'y': 19, 'h': 51, 'w': 17, ',': 16, 'l': 47, 'v': 6, ' ': 294, '\\n': 28, '-': 9, 'a': 52, 'b': 10, 't': 61, 'p': 8, 'i': 48, 'k': 9, 'm': 20, 'o': 55, 'f': 16, 'd': 41, 'u': 22, 'e': 102, 'r': 47, 's': 42, '.': 5}\n"
     ]
    }
   ],
   "source": [
    "a = {'!': 3, 'g': 15, 'n': 51, 'c': 13, 'y': 19, 'h': 51, 'w': 17, ',': 16, 'l': 47, 'I': 3, 'F': 1, 'N': 2, 'M': 1, '?': 1, ':': 4, 'v': 6, ' ': 294, 'G': 1, 'S': 1, '\\n': 28, '-': 9, 'a': 52, 'W': 1, 'O': 1, 'Z': 1, 'j': 2, 'x': 1, 'b': 10, 't': 61, 'p': 8, 'i': 48, 'k': 9, 'A': 1, 'm': 20, 'o': 55, 'f': 16, 'T': 1, 'd': 41, 'u': 22, 'q': 1, 'e': 102, \"'\": 4, 'r': 47, 'R': 1, 's': 42, 'L': 2, 'B': 1, '.': 5, ';': 1}\n",
    "for k, v in list(a.items()):\n",
    "    if v < 5:\n",
    "        del a[k]\n",
    "print(a)"
   ]
  },
  {
   "cell_type": "code",
   "execution_count": null,
   "metadata": {},
   "outputs": [],
   "source": [
    "bag = []\n",
    "while True:\n",
    "    a = input()\n",
    "    if a == \"\":\n",
    "        print(bag)\n",
    "        break\n",
    "    elif a in bag:\n",
    "        print(\"Уже есть в мешке\")\n",
    "        continue\n",
    "    else:\n",
    "        if len(bag)==5:\n",
    "            print(f\"Удаленное знаение: {bag.pop(0)}\")\n",
    "            bag.append(a)\n",
    "            print(f\"Добавленное значение: {bag[-1]}\")\n",
    "        else:\n",
    "            bag.append(a)\n",
    "            print(f\"Добавленное значение: {bag[-1]}\")\n",
    "        "
   ]
  },
  {
   "cell_type": "code",
   "execution_count": null,
   "metadata": {},
   "outputs": [],
   "source": []
  }
 ],
 "metadata": {
  "kernelspec": {
   "display_name": "Python 3",
   "language": "python",
   "name": "python3"
  },
  "language_info": {
   "codemirror_mode": {
    "name": "ipython",
    "version": 3
   },
   "file_extension": ".py",
   "mimetype": "text/x-python",
   "name": "python",
   "nbconvert_exporter": "python",
   "pygments_lexer": "ipython3",
   "version": "3.8.5"
  }
 },
 "nbformat": 4,
 "nbformat_minor": 4
}
