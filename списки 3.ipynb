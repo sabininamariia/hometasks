{
 "cells": [
  {
   "cell_type": "code",
   "execution_count": 6,
   "metadata": {},
   "outputs": [
    {
     "name": "stdout",
     "output_type": "stream",
     "text": [
      "one four two five three six\n"
     ]
    }
   ],
   "source": [
    "a = 'one two three'\n",
    "b = 'four five six'\n",
    "a = a.split() \n",
    "b = b.split() \n",
    "lenght = len(a) if len(a) < len(b) else len(b)\n",
    "c =[]\n",
    "for i in range(lenght):\n",
    "    c.append(a[i])\n",
    "    c.append(b[i])\n",
    "c = ' '.join(c)\n",
    "print(c)"
   ]
  },
  {
   "cell_type": "code",
   "execution_count": 29,
   "metadata": {},
   "outputs": [
    {
     "ename": "SyntaxError",
     "evalue": "invalid syntax (<ipython-input-29-f9ce8dbae444>, line 12)",
     "output_type": "error",
     "traceback": [
      "\u001b[0;36m  File \u001b[0;32m\"<ipython-input-29-f9ce8dbae444>\"\u001b[0;36m, line \u001b[0;32m12\u001b[0m\n\u001b[0;31m    elif b == \"True\":\u001b[0m\n\u001b[0m    ^\u001b[0m\n\u001b[0;31mSyntaxError\u001b[0m\u001b[0;31m:\u001b[0m invalid syntax\n"
     ]
    }
   ],
   "source": [
    "lenght = int(input(\"Введите длину списка\"))\n",
    "a = []\n",
    "for i in range(length):\n",
    "    b = input()\n",
    "    b_list = b.split('.')\n",
    "    if len(b_list) == 2 and b_list[0].isdigit() and b_list[-1].isdigit():\n",
    "        b_float = float(b)\n",
    "    if b_float == int(b_float) > 0:\n",
    "        b.append(int(b_float) + 1)\n",
    "    else:\n",
    "            b.append(int(b_float))\n",
    "    elif b == \"True\":\n",
    "        b.append(True)\n",
    "    elif b == \"False\":\n",
    "        b.append(False)\n",
    "    else:\n",
    "        b.append(b)\n",
    "        "
   ]
  },
  {
   "cell_type": "code",
   "execution_count": 9,
   "metadata": {},
   "outputs": [
    {
     "name": "stdout",
     "output_type": "stream",
     "text": [
      " one four  two five  three six \n"
     ]
    }
   ],
   "source": [
    "a = 'one two three' \n",
    "b = 'four five six' \n",
    "a = a.split() \n",
    "b = b.split() \n",
    "c = list(zip(a, b)) \n",
    "x = \"\" \n",
    "for i in c: \n",
    "    x += ' {} {} '.format(*i)\n",
    "print (x)"
   ]
  },
  {
   "cell_type": "code",
   "execution_count": 74,
   "metadata": {},
   "outputs": [
    {
     "name": "stdout",
     "output_type": "stream",
     "text": [
      "4\n",
      "['kasha', 'vasha', 'natasha', 'masha', 'sasha', 'dasha', 'pasha']\n"
     ]
    }
   ],
   "source": [
    "a = ['masha', 'sasha', 'dasha', 'pasha', 'kasha', 'vasha', 'natasha']\n",
    "b = int(input())\n",
    "for i in range(0, b):\n",
    "    c = a[0]\n",
    "    a.append(c)\n",
    "    del a[0]\n",
    "print (a)"
   ]
  },
  {
   "cell_type": "code",
   "execution_count": 96,
   "metadata": {},
   "outputs": [
    {
     "name": "stdout",
     "output_type": "stream",
     "text": [
      "[2, 2, 3]\n"
     ]
    }
   ],
   "source": [
    "lst = [3, 6, 7, 12]\n",
    "lst1= []\n",
    "for i in lst:\n",
    "    condition = True\n",
    "    number = i\n",
    "    lst_simple = []\n",
    "    while condition:\n",
    "#         print(number)\n",
    "        for j in range (2, number+1):\n",
    "            for k in range (2, j//2):\n",
    "                if j % k == 0:\n",
    "                    break\n",
    "            else:\n",
    "                if number % j == 0:\n",
    "                    lst_simple.append(j)\n",
    "                    number = number // j\n",
    "                    break\n",
    "        if number == 1:\n",
    "            condition = False\n",
    "    lst1.extend(lst_simple)\n",
    "print(lst_simple)"
   ]
  },
  {
   "cell_type": "code",
   "execution_count": 86,
   "metadata": {},
   "outputs": [
    {
     "name": "stdout",
     "output_type": "stream",
     "text": [
      "6\n",
      "5\n"
     ]
    }
   ],
   "source": [
    "a = [9, 4, 7, 2, 5, 206]\n",
    "b = int(input())\n",
    "minimum = a[0]\n",
    "for i in range (b):\n",
    "    if a[i] <= a[0]:\n",
    "        minimum = a[i]\n",
    "print (minimum)\n",
    "   \n",
    "    "
   ]
  },
  {
   "cell_type": "markdown",
   "metadata": {},
   "source": [
    "#a = ['18', '4', '8', '3', '5', '206']\n",
    "b = int(input())\n",
    "c = 0\n",
    "minimum = a[0]\n",
    "for i in range (b):\n",
    "    if a[i] <= minimum:\n",
    "        minimum = a[i]\n",
    "        c = i\n",
    "print (minimum)\n",
    "print (c)"
   ]
  },
  {
   "cell_type": "code",
   "execution_count": 84,
   "metadata": {},
   "outputs": [
    {
     "name": "stdout",
     "output_type": "stream",
     "text": [
      "5\n",
      "3\n",
      "3\n"
     ]
    }
   ],
   "source": [
    "c = int(input()) \n",
    "p = 0 \n",
    "a = [18, 2066, 8, 3, 55] \n",
    "minimum = a[0] \n",
    "for i in range (c): \n",
    "    if a[i] < minimum: \n",
    "        minimum = a[i] \n",
    "        p = i \n",
    "print (minimum)\n",
    "print (p)"
   ]
  },
  {
   "cell_type": "code",
   "execution_count": 1,
   "metadata": {},
   "outputs": [
    {
     "name": "stdout",
     "output_type": "stream",
     "text": [
      "[1, 's', 30, 2, 'q', 40] [3, 50, 60]\n"
     ]
    }
   ],
   "source": [
    "a = [[1, 2, 3], ['s', 'q'], [30, 40, 50, 60]]\n",
    "b = []\n",
    "c = []\n",
    "min_len = len(a[0])\n",
    "for i in a:\n",
    "    if len(i) < min_len:\n",
    "        min_len = len(i)\n",
    "for i in range(min_len):\n",
    "    for j in a:\n",
    "        b.append(j.pop(0))\n",
    "for i in a:\n",
    "    c.extend(i)\n",
    "print (b, c)"
   ]
  },
  {
   "cell_type": "code",
   "execution_count": null,
   "metadata": {},
   "outputs": [],
   "source": []
  }
 ],
 "metadata": {
  "kernelspec": {
   "display_name": "Python 3",
   "language": "python",
   "name": "python3"
  },
  "language_info": {
   "codemirror_mode": {
    "name": "ipython",
    "version": 3
   },
   "file_extension": ".py",
   "mimetype": "text/x-python",
   "name": "python",
   "nbconvert_exporter": "python",
   "pygments_lexer": "ipython3",
   "version": "3.8.5"
  }
 },
 "nbformat": 4,
 "nbformat_minor": 4
}
